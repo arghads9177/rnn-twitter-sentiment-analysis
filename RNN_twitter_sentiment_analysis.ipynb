{
  "nbformat": 4,
  "nbformat_minor": 0,
  "metadata": {
    "colab": {
      "provenance": [],
      "authorship_tag": "ABX9TyMRJMOqRr/3Is6hfPXEetBC",
      "include_colab_link": true
    },
    "kernelspec": {
      "name": "python3",
      "display_name": "Python 3"
    },
    "language_info": {
      "name": "python"
    }
  },
  "cells": [
    {
      "cell_type": "markdown",
      "metadata": {
        "id": "view-in-github",
        "colab_type": "text"
      },
      "source": [
        "<a href=\"https://colab.research.google.com/github/arghads9177/rnn-twitter-sentiment-analysis/blob/master/RNN_twitter_sentiment_analysis.ipynb\" target=\"_parent\"><img src=\"https://colab.research.google.com/assets/colab-badge.svg\" alt=\"Open In Colab\"/></a>"
      ]
    },
    {
      "cell_type": "markdown",
      "source": [
        "# **Twitter Sentiment Analysis with RNN**\n",
        "\n",
        "## Project Overview  \n",
        "This project focuses on building a Recurrent Neural Network (RNN) model for performing **entity-level sentiment analysis** on Twitter data. The goal is to predict the sentiment (Positive, Negative, or Neutral) of a given tweet about a particular entity. This sentiment analysis task involves evaluating how tweets relate to entities mentioned in them, making it useful for brand monitoring, public opinion analysis, and social media insights.\n",
        "\n",
        "---\n",
        "\n",
        "## About the Dataset  \n",
        "\n",
        "### Dataset Description  \n",
        "- **Number of Rows:** 74,682  \n",
        "- **Number of Columns:** 4  \n",
        "- **Classes:**  \n",
        "  - **Positive**  \n",
        "  - **Negative**  \n",
        "  - **Neutral** (Tweets that are irrelevant to the entity are considered Neutral)  \n",
        "\n",
        "### Features  \n",
        "| Feature Name   | Description                                            |\n",
        "|----------------|--------------------------------------------------------|\n",
        "| **Tweet_ID**   | Unique identifier for each tweet (integer)             |\n",
        "| **entity**     | Entity (e.g., company name, product, person, etc.)      |\n",
        "| **sentiment**  | The sentiment of the tweet towards the entity (Positive, Negative, Neutral) |\n",
        "| **Tweet_content** | The actual text content of the tweet                  |\n",
        "\n",
        "### Key Observations  \n",
        "- The dataset is primarily concerned with understanding the sentiment of tweets about specific entities.  \n",
        "- The **Neutral** category includes tweets that are irrelevant to the entity mentioned.  \n",
        "- The data is balanced across the three sentiment classes (Positive, Negative, and Neutral).\n",
        "\n",
        "---\n",
        "\n",
        "## Objective  \n",
        "\n",
        "- **Sentiment Classification:**  \n",
        "  Develop an RNN model to predict the sentiment of tweets regarding the given entity.  \n",
        "- **Applications:**  \n",
        "  - Analyzing public sentiment towards brands, products, or public figures.  \n",
        "  - Understanding consumer opinions and feedback in real-time.  \n",
        "  - Monitoring social media for sentiment-driven events and trends.\n",
        "\n",
        "---\n",
        "\n",
        "## Methodology  \n",
        "\n",
        "### 1. **Data Preprocessing**  \n",
        "   - **Text Preprocessing:**  \n",
        "     - Tokenization, removing stop words, and lemmatization.  \n",
        "     - Text vectorization using techniques like **TF-IDF** or **Word Embeddings** (Word2Vec, GloVe).  \n",
        "   - **Label Encoding:**  \n",
        "     - Convert sentiment labels (Positive, Negative, Neutral) into numerical format using label encoding or one-hot encoding.  \n",
        "   \n",
        "### 2. **Model Development**  \n",
        "   - **RNN Architecture:**  \n",
        "     - Use an RNN or **LSTM/GRU** to capture the sequential nature of tweet data.  \n",
        "   - **Embedding Layer:**  \n",
        "     - Pre-trained word embeddings (e.g., GloVe, Word2Vec) for better understanding of words in context.  \n",
        "   - **Dense Layer:**  \n",
        "     - Fully connected layers for classification into the three sentiment classes.  \n",
        "   - **Activation Functions:**  \n",
        "     - **Softmax** for multi-class classification in the output layer.  \n",
        "\n",
        "### 3. **Model Training and Optimization**  \n",
        "   - **Loss Function:** **Categorical Cross-Entropy**  \n",
        "   - **Optimizers:** **Adam**, **RMSprop**  \n",
        "   - **Metrics:** Accuracy, Precision, Recall, F1-score  \n",
        "\n",
        "### 4. **Evaluation**  \n",
        "   - Evaluate the model using a **confusion matrix** and **classification report**.  \n",
        "   - Analyze precision, recall, and F1-score to assess performance on each sentiment class.  \n",
        "\n",
        "### 5. **Visualization**  \n",
        "   - Visualize training and validation accuracy/loss over epochs.  \n",
        "   - Visualize sample tweet predictions and misclassifications.  \n",
        "\n",
        "---\n",
        "\n",
        "## Tools and Libraries  \n",
        "\n",
        "- **Frameworks:** Keras, TensorFlow, PyTorch  \n",
        "- **Data Handling:** Pandas, NumPy  \n",
        "- **Text Processing:** NLTK, SpaCy, scikit-learn  \n",
        "- **Visualization:** Matplotlib, seaborn  \n",
        "\n",
        "---\n",
        "\n",
        "## Future Enhancements  \n",
        "\n",
        "1. **Model Optimization:**  \n",
        "   - Experiment with different RNN architectures, such as **Bidirectional LSTM** or **Attention Mechanism**.  \n",
        "   \n",
        "2. **Transfer Learning:**  \n",
        "   - Leverage pre-trained models like **BERT** or **GPT** for fine-tuning on this dataset.  \n",
        "\n",
        "3. **Real-Time Sentiment Analysis:**  \n",
        "   - Deploy the model in a real-time environment to monitor ongoing Twitter sentiment.  \n",
        "\n",
        "4. **Integration with Applications:**  \n",
        "   - Integrate the sentiment analysis tool with social media dashboards for businesses or political entities to monitor public sentiment in real-time.\n",
        "\n",
        "---\n",
        "\n",
        "## Dataset Information  \n",
        "\n",
        "- **Name:** Twitter Sentiment Analysis Dataset  \n",
        "- **Source:** [Kaggle](https://www.kaggle.com/datasets/jp797498e/twitter-entity-sentiment-analysis?resource=download)  \n",
        "- **Size:** ~1 MB  \n",
        "- **Format:** CSV  \n",
        "\n",
        "---\n",
        "\n",
        "## Conclusion  \n",
        "\n",
        "The **Twitter Sentiment Analysis Dataset** provides valuable insights into how people feel about different entities on Twitter. By utilizing **Recurrent Neural Networks (RNNs)**, this project explores an effective way to capture the context of sequential data (tweets) and perform sentiment classification for various real-world applications."
      ],
      "metadata": {
        "id": "5laWpmIkYISY"
      }
    },
    {
      "cell_type": "markdown",
      "source": [
        "### Import Libraies"
      ],
      "metadata": {
        "id": "MEti2sKBl7DQ"
      }
    },
    {
      "cell_type": "code",
      "execution_count": 37,
      "metadata": {
        "id": "jcE8tobmlG45"
      },
      "outputs": [],
      "source": [
        "import pandas as pd\n",
        "import numpy as np\n",
        "import matplotlib.pyplot as plt\n",
        "import seaborn as sns\n",
        "import warnings\n",
        "\n",
        "from sklearn.model_selection import train_test_split\n",
        "from sklearn.preprocessing import LabelEncoder\n",
        "from tensorflow.keras.preprocessing.text import Tokenizer\n",
        "from tensorflow.keras.preprocessing.sequence import pad_sequences\n",
        "from tensorflow.keras.models import Sequential\n",
        "from tensorflow.keras.layers import SimpleRNN, Dense, Embedding, Dropout\n",
        "from tensorflow.keras.utils import to_categorical\n",
        "from sklearn.metrics import classification_report, accuracy_score\n",
        "\n",
        "from sklearn.utils import resample\n",
        "from nltk.stem import WordNetLemmatizer\n",
        "from nltk.tokenize import word_tokenize\n",
        "import nltk\n",
        "from tensorflow.keras.initializers import Constant\n",
        "\n",
        "from gensim.models import Word2Vec\n",
        "from tensorflow.keras.layers import Embedding"
      ]
    },
    {
      "cell_type": "markdown",
      "source": [
        "### Settings"
      ],
      "metadata": {
        "id": "yL4Rac5rmJsP"
      }
    },
    {
      "cell_type": "code",
      "source": [
        "warnings.filterwarnings('ignore')\n",
        "sns.set_style(\"darkgrid\")"
      ],
      "metadata": {
        "id": "Bo6e2Qn3mIsz"
      },
      "execution_count": 2,
      "outputs": []
    },
    {
      "cell_type": "markdown",
      "source": [
        "### Load Data"
      ],
      "metadata": {
        "id": "K3_EZNu-mV4O"
      }
    },
    {
      "cell_type": "code",
      "source": [
        "df = pd.read_csv(\"twitter_training.csv\", encoding=\"utf-8\", header=None, names= [\"Tweet_ID\", \"entity\", \"sentiment\", \"Tweet_content\"])"
      ],
      "metadata": {
        "id": "c_RxBSeFmUzE"
      },
      "execution_count": 3,
      "outputs": []
    },
    {
      "cell_type": "code",
      "source": [
        "# Show 1st 5 rows to get an idea about the data present in each feature\n",
        "df.head()"
      ],
      "metadata": {
        "colab": {
          "base_uri": "https://localhost:8080/",
          "height": 206
        },
        "id": "whaJoF8Smrty",
        "outputId": "5e77dccc-5dad-4445-ac66-ce8058a30f39"
      },
      "execution_count": 4,
      "outputs": [
        {
          "output_type": "execute_result",
          "data": {
            "text/plain": [
              "   Tweet_ID       entity sentiment  \\\n",
              "0      2401  Borderlands  Positive   \n",
              "1      2401  Borderlands  Positive   \n",
              "2      2401  Borderlands  Positive   \n",
              "3      2401  Borderlands  Positive   \n",
              "4      2401  Borderlands  Positive   \n",
              "\n",
              "                                       Tweet_content  \n",
              "0  im getting on borderlands and i will murder yo...  \n",
              "1  I am coming to the borders and I will kill you...  \n",
              "2  im getting on borderlands and i will kill you ...  \n",
              "3  im coming on borderlands and i will murder you...  \n",
              "4  im getting on borderlands 2 and i will murder ...  "
            ],
            "text/html": [
              "\n",
              "  <div id=\"df-76ca2fde-db3c-4eb2-9282-0970b03f7504\" class=\"colab-df-container\">\n",
              "    <div>\n",
              "<style scoped>\n",
              "    .dataframe tbody tr th:only-of-type {\n",
              "        vertical-align: middle;\n",
              "    }\n",
              "\n",
              "    .dataframe tbody tr th {\n",
              "        vertical-align: top;\n",
              "    }\n",
              "\n",
              "    .dataframe thead th {\n",
              "        text-align: right;\n",
              "    }\n",
              "</style>\n",
              "<table border=\"1\" class=\"dataframe\">\n",
              "  <thead>\n",
              "    <tr style=\"text-align: right;\">\n",
              "      <th></th>\n",
              "      <th>Tweet_ID</th>\n",
              "      <th>entity</th>\n",
              "      <th>sentiment</th>\n",
              "      <th>Tweet_content</th>\n",
              "    </tr>\n",
              "  </thead>\n",
              "  <tbody>\n",
              "    <tr>\n",
              "      <th>0</th>\n",
              "      <td>2401</td>\n",
              "      <td>Borderlands</td>\n",
              "      <td>Positive</td>\n",
              "      <td>im getting on borderlands and i will murder yo...</td>\n",
              "    </tr>\n",
              "    <tr>\n",
              "      <th>1</th>\n",
              "      <td>2401</td>\n",
              "      <td>Borderlands</td>\n",
              "      <td>Positive</td>\n",
              "      <td>I am coming to the borders and I will kill you...</td>\n",
              "    </tr>\n",
              "    <tr>\n",
              "      <th>2</th>\n",
              "      <td>2401</td>\n",
              "      <td>Borderlands</td>\n",
              "      <td>Positive</td>\n",
              "      <td>im getting on borderlands and i will kill you ...</td>\n",
              "    </tr>\n",
              "    <tr>\n",
              "      <th>3</th>\n",
              "      <td>2401</td>\n",
              "      <td>Borderlands</td>\n",
              "      <td>Positive</td>\n",
              "      <td>im coming on borderlands and i will murder you...</td>\n",
              "    </tr>\n",
              "    <tr>\n",
              "      <th>4</th>\n",
              "      <td>2401</td>\n",
              "      <td>Borderlands</td>\n",
              "      <td>Positive</td>\n",
              "      <td>im getting on borderlands 2 and i will murder ...</td>\n",
              "    </tr>\n",
              "  </tbody>\n",
              "</table>\n",
              "</div>\n",
              "    <div class=\"colab-df-buttons\">\n",
              "\n",
              "  <div class=\"colab-df-container\">\n",
              "    <button class=\"colab-df-convert\" onclick=\"convertToInteractive('df-76ca2fde-db3c-4eb2-9282-0970b03f7504')\"\n",
              "            title=\"Convert this dataframe to an interactive table.\"\n",
              "            style=\"display:none;\">\n",
              "\n",
              "  <svg xmlns=\"http://www.w3.org/2000/svg\" height=\"24px\" viewBox=\"0 -960 960 960\">\n",
              "    <path d=\"M120-120v-720h720v720H120Zm60-500h600v-160H180v160Zm220 220h160v-160H400v160Zm0 220h160v-160H400v160ZM180-400h160v-160H180v160Zm440 0h160v-160H620v160ZM180-180h160v-160H180v160Zm440 0h160v-160H620v160Z\"/>\n",
              "  </svg>\n",
              "    </button>\n",
              "\n",
              "  <style>\n",
              "    .colab-df-container {\n",
              "      display:flex;\n",
              "      gap: 12px;\n",
              "    }\n",
              "\n",
              "    .colab-df-convert {\n",
              "      background-color: #E8F0FE;\n",
              "      border: none;\n",
              "      border-radius: 50%;\n",
              "      cursor: pointer;\n",
              "      display: none;\n",
              "      fill: #1967D2;\n",
              "      height: 32px;\n",
              "      padding: 0 0 0 0;\n",
              "      width: 32px;\n",
              "    }\n",
              "\n",
              "    .colab-df-convert:hover {\n",
              "      background-color: #E2EBFA;\n",
              "      box-shadow: 0px 1px 2px rgba(60, 64, 67, 0.3), 0px 1px 3px 1px rgba(60, 64, 67, 0.15);\n",
              "      fill: #174EA6;\n",
              "    }\n",
              "\n",
              "    .colab-df-buttons div {\n",
              "      margin-bottom: 4px;\n",
              "    }\n",
              "\n",
              "    [theme=dark] .colab-df-convert {\n",
              "      background-color: #3B4455;\n",
              "      fill: #D2E3FC;\n",
              "    }\n",
              "\n",
              "    [theme=dark] .colab-df-convert:hover {\n",
              "      background-color: #434B5C;\n",
              "      box-shadow: 0px 1px 3px 1px rgba(0, 0, 0, 0.15);\n",
              "      filter: drop-shadow(0px 1px 2px rgba(0, 0, 0, 0.3));\n",
              "      fill: #FFFFFF;\n",
              "    }\n",
              "  </style>\n",
              "\n",
              "    <script>\n",
              "      const buttonEl =\n",
              "        document.querySelector('#df-76ca2fde-db3c-4eb2-9282-0970b03f7504 button.colab-df-convert');\n",
              "      buttonEl.style.display =\n",
              "        google.colab.kernel.accessAllowed ? 'block' : 'none';\n",
              "\n",
              "      async function convertToInteractive(key) {\n",
              "        const element = document.querySelector('#df-76ca2fde-db3c-4eb2-9282-0970b03f7504');\n",
              "        const dataTable =\n",
              "          await google.colab.kernel.invokeFunction('convertToInteractive',\n",
              "                                                    [key], {});\n",
              "        if (!dataTable) return;\n",
              "\n",
              "        const docLinkHtml = 'Like what you see? Visit the ' +\n",
              "          '<a target=\"_blank\" href=https://colab.research.google.com/notebooks/data_table.ipynb>data table notebook</a>'\n",
              "          + ' to learn more about interactive tables.';\n",
              "        element.innerHTML = '';\n",
              "        dataTable['output_type'] = 'display_data';\n",
              "        await google.colab.output.renderOutput(dataTable, element);\n",
              "        const docLink = document.createElement('div');\n",
              "        docLink.innerHTML = docLinkHtml;\n",
              "        element.appendChild(docLink);\n",
              "      }\n",
              "    </script>\n",
              "  </div>\n",
              "\n",
              "\n",
              "<div id=\"df-8730ac77-d489-440b-a748-fbd181096256\">\n",
              "  <button class=\"colab-df-quickchart\" onclick=\"quickchart('df-8730ac77-d489-440b-a748-fbd181096256')\"\n",
              "            title=\"Suggest charts\"\n",
              "            style=\"display:none;\">\n",
              "\n",
              "<svg xmlns=\"http://www.w3.org/2000/svg\" height=\"24px\"viewBox=\"0 0 24 24\"\n",
              "     width=\"24px\">\n",
              "    <g>\n",
              "        <path d=\"M19 3H5c-1.1 0-2 .9-2 2v14c0 1.1.9 2 2 2h14c1.1 0 2-.9 2-2V5c0-1.1-.9-2-2-2zM9 17H7v-7h2v7zm4 0h-2V7h2v10zm4 0h-2v-4h2v4z\"/>\n",
              "    </g>\n",
              "</svg>\n",
              "  </button>\n",
              "\n",
              "<style>\n",
              "  .colab-df-quickchart {\n",
              "      --bg-color: #E8F0FE;\n",
              "      --fill-color: #1967D2;\n",
              "      --hover-bg-color: #E2EBFA;\n",
              "      --hover-fill-color: #174EA6;\n",
              "      --disabled-fill-color: #AAA;\n",
              "      --disabled-bg-color: #DDD;\n",
              "  }\n",
              "\n",
              "  [theme=dark] .colab-df-quickchart {\n",
              "      --bg-color: #3B4455;\n",
              "      --fill-color: #D2E3FC;\n",
              "      --hover-bg-color: #434B5C;\n",
              "      --hover-fill-color: #FFFFFF;\n",
              "      --disabled-bg-color: #3B4455;\n",
              "      --disabled-fill-color: #666;\n",
              "  }\n",
              "\n",
              "  .colab-df-quickchart {\n",
              "    background-color: var(--bg-color);\n",
              "    border: none;\n",
              "    border-radius: 50%;\n",
              "    cursor: pointer;\n",
              "    display: none;\n",
              "    fill: var(--fill-color);\n",
              "    height: 32px;\n",
              "    padding: 0;\n",
              "    width: 32px;\n",
              "  }\n",
              "\n",
              "  .colab-df-quickchart:hover {\n",
              "    background-color: var(--hover-bg-color);\n",
              "    box-shadow: 0 1px 2px rgba(60, 64, 67, 0.3), 0 1px 3px 1px rgba(60, 64, 67, 0.15);\n",
              "    fill: var(--button-hover-fill-color);\n",
              "  }\n",
              "\n",
              "  .colab-df-quickchart-complete:disabled,\n",
              "  .colab-df-quickchart-complete:disabled:hover {\n",
              "    background-color: var(--disabled-bg-color);\n",
              "    fill: var(--disabled-fill-color);\n",
              "    box-shadow: none;\n",
              "  }\n",
              "\n",
              "  .colab-df-spinner {\n",
              "    border: 2px solid var(--fill-color);\n",
              "    border-color: transparent;\n",
              "    border-bottom-color: var(--fill-color);\n",
              "    animation:\n",
              "      spin 1s steps(1) infinite;\n",
              "  }\n",
              "\n",
              "  @keyframes spin {\n",
              "    0% {\n",
              "      border-color: transparent;\n",
              "      border-bottom-color: var(--fill-color);\n",
              "      border-left-color: var(--fill-color);\n",
              "    }\n",
              "    20% {\n",
              "      border-color: transparent;\n",
              "      border-left-color: var(--fill-color);\n",
              "      border-top-color: var(--fill-color);\n",
              "    }\n",
              "    30% {\n",
              "      border-color: transparent;\n",
              "      border-left-color: var(--fill-color);\n",
              "      border-top-color: var(--fill-color);\n",
              "      border-right-color: var(--fill-color);\n",
              "    }\n",
              "    40% {\n",
              "      border-color: transparent;\n",
              "      border-right-color: var(--fill-color);\n",
              "      border-top-color: var(--fill-color);\n",
              "    }\n",
              "    60% {\n",
              "      border-color: transparent;\n",
              "      border-right-color: var(--fill-color);\n",
              "    }\n",
              "    80% {\n",
              "      border-color: transparent;\n",
              "      border-right-color: var(--fill-color);\n",
              "      border-bottom-color: var(--fill-color);\n",
              "    }\n",
              "    90% {\n",
              "      border-color: transparent;\n",
              "      border-bottom-color: var(--fill-color);\n",
              "    }\n",
              "  }\n",
              "</style>\n",
              "\n",
              "  <script>\n",
              "    async function quickchart(key) {\n",
              "      const quickchartButtonEl =\n",
              "        document.querySelector('#' + key + ' button');\n",
              "      quickchartButtonEl.disabled = true;  // To prevent multiple clicks.\n",
              "      quickchartButtonEl.classList.add('colab-df-spinner');\n",
              "      try {\n",
              "        const charts = await google.colab.kernel.invokeFunction(\n",
              "            'suggestCharts', [key], {});\n",
              "      } catch (error) {\n",
              "        console.error('Error during call to suggestCharts:', error);\n",
              "      }\n",
              "      quickchartButtonEl.classList.remove('colab-df-spinner');\n",
              "      quickchartButtonEl.classList.add('colab-df-quickchart-complete');\n",
              "    }\n",
              "    (() => {\n",
              "      let quickchartButtonEl =\n",
              "        document.querySelector('#df-8730ac77-d489-440b-a748-fbd181096256 button');\n",
              "      quickchartButtonEl.style.display =\n",
              "        google.colab.kernel.accessAllowed ? 'block' : 'none';\n",
              "    })();\n",
              "  </script>\n",
              "</div>\n",
              "\n",
              "    </div>\n",
              "  </div>\n"
            ],
            "application/vnd.google.colaboratory.intrinsic+json": {
              "type": "dataframe",
              "variable_name": "df",
              "summary": "{\n  \"name\": \"df\",\n  \"rows\": 74682,\n  \"fields\": [\n    {\n      \"column\": \"Tweet_ID\",\n      \"properties\": {\n        \"dtype\": \"number\",\n        \"std\": 3740,\n        \"min\": 1,\n        \"max\": 13200,\n        \"num_unique_values\": 12447,\n        \"samples\": [\n          1616,\n          2660,\n          2335\n        ],\n        \"semantic_type\": \"\",\n        \"description\": \"\"\n      }\n    },\n    {\n      \"column\": \"entity\",\n      \"properties\": {\n        \"dtype\": \"category\",\n        \"num_unique_values\": 32,\n        \"samples\": [\n          \"Cyberpunk2077\",\n          \"Microsoft\",\n          \"TomClancysRainbowSix\"\n        ],\n        \"semantic_type\": \"\",\n        \"description\": \"\"\n      }\n    },\n    {\n      \"column\": \"sentiment\",\n      \"properties\": {\n        \"dtype\": \"category\",\n        \"num_unique_values\": 4,\n        \"samples\": [\n          \"Neutral\",\n          \"Irrelevant\",\n          \"Positive\"\n        ],\n        \"semantic_type\": \"\",\n        \"description\": \"\"\n      }\n    },\n    {\n      \"column\": \"Tweet_content\",\n      \"properties\": {\n        \"dtype\": \"string\",\n        \"num_unique_values\": 69491,\n        \"samples\": [\n          \"Thanks to @ Kain0025 for the raid. Thanks to @ gamingstreams and @ velonese002 for the bitts! And thanks to @ ColTrysTohete for hanging out and hanging out!. I hope to continue streaming regularly.. watch the w / @ Cohtstreams _ coming live!\",\n          \"How not to get bored about every damn thing in life.\",\n          \"The Best Way to Protect the Samsung Galaxy Note10+ buff.ly/2zkjIhU <unk> ^\"\n        ],\n        \"semantic_type\": \"\",\n        \"description\": \"\"\n      }\n    }\n  ]\n}"
            }
          },
          "metadata": {},
          "execution_count": 4
        }
      ]
    },
    {
      "cell_type": "markdown",
      "source": [
        "### EDA- Gather General Information about Dataset"
      ],
      "metadata": {
        "id": "1KL7tSpJqmKe"
      }
    },
    {
      "cell_type": "code",
      "source": [
        "# Data Description\n",
        "print(\"=\" * 60)\n",
        "print(\"DATA DESCRIPTION\")\n",
        "print(\"=\" * 60)\n",
        "print(f\"Number of Rows: {df.shape[0]}\")\n",
        "print(f\"Number of Columns: {df.shape[1]}\")"
      ],
      "metadata": {
        "colab": {
          "base_uri": "https://localhost:8080/"
        },
        "id": "i4e5D07eoP4e",
        "outputId": "946e6930-1f57-4de9-cb04-e6fcc1dd4e2b"
      },
      "execution_count": 5,
      "outputs": [
        {
          "output_type": "stream",
          "name": "stdout",
          "text": [
            "============================================================\n",
            "DATA DESCRIPTION\n",
            "============================================================\n",
            "Number of Rows: 74682\n",
            "Number of Columns: 4\n"
          ]
        }
      ]
    },
    {
      "cell_type": "code",
      "source": [
        "# Feature Description\n",
        "print(\"=\" * 60)\n",
        "print(\"FEATURE DESCRIPTION\")\n",
        "print(\"=\" * 60)\n",
        "print(df.dtypes)"
      ],
      "metadata": {
        "colab": {
          "base_uri": "https://localhost:8080/"
        },
        "id": "xKR_nluDrmcj",
        "outputId": "12038b62-b341-4ec0-8e23-382ea0ed097e"
      },
      "execution_count": 6,
      "outputs": [
        {
          "output_type": "stream",
          "name": "stdout",
          "text": [
            "============================================================\n",
            "FEATURE DESCRIPTION\n",
            "============================================================\n",
            "Tweet_ID          int64\n",
            "entity           object\n",
            "sentiment        object\n",
            "Tweet_content    object\n",
            "dtype: object\n"
          ]
        }
      ]
    },
    {
      "cell_type": "code",
      "source": [
        "# Check Missing Values\n",
        "def check_missing():\n",
        "  print(\"=\" * 60)\n",
        "  print(\"MISSING VALUE DETECTION\")\n",
        "  print(\"=\" * 60)\n",
        "  if df.isnull().sum().sum() > 0:\n",
        "    print(df.isnull().sum())\n",
        "  else:\n",
        "    print(\"No Missing Values Found in any feature\")\n",
        "\n",
        "check_missing()"
      ],
      "metadata": {
        "colab": {
          "base_uri": "https://localhost:8080/"
        },
        "id": "afZxm73jr1aZ",
        "outputId": "39079ed3-b8e5-4ef4-8b87-61315c40e3cd"
      },
      "execution_count": 7,
      "outputs": [
        {
          "output_type": "stream",
          "name": "stdout",
          "text": [
            "============================================================\n",
            "MISSING VALUE DETECTION\n",
            "============================================================\n",
            "Tweet_ID           0\n",
            "entity             0\n",
            "sentiment          0\n",
            "Tweet_content    686\n",
            "dtype: int64\n"
          ]
        }
      ]
    },
    {
      "cell_type": "code",
      "source": [
        "# Check Duplicate observations\n",
        "def check_duplicates():\n",
        "  print(\"=\" * 60)\n",
        "  print(\"DUPLICATE ROW DETECTION\")\n",
        "  print(\"=\" * 60)\n",
        "  print(f\"Total Number of Duplicate Rows: {df.duplicated().sum()}\")\n",
        "\n",
        "check_duplicates()"
      ],
      "metadata": {
        "colab": {
          "base_uri": "https://localhost:8080/"
        },
        "id": "vM2_e3ASvGuz",
        "outputId": "f92f98b2-d6aa-4d4b-cfa6-f0fc3ee93008"
      },
      "execution_count": 8,
      "outputs": [
        {
          "output_type": "stream",
          "name": "stdout",
          "text": [
            "============================================================\n",
            "DUPLICATE ROW DETECTION\n",
            "============================================================\n",
            "Total Number of Duplicate Rows: 2700\n"
          ]
        }
      ]
    },
    {
      "cell_type": "markdown",
      "source": [
        "### Data Cleaning"
      ],
      "metadata": {
        "id": "MkKa4OUYvxCS"
      }
    },
    {
      "cell_type": "code",
      "source": [
        "# Remove the rows having missing values\n",
        "df.dropna(inplace=True)\n",
        "check_missing()"
      ],
      "metadata": {
        "colab": {
          "base_uri": "https://localhost:8080/"
        },
        "id": "3nhDgcKmvfVF",
        "outputId": "61a64055-4f8a-4f58-b939-bfbca49c1011"
      },
      "execution_count": 9,
      "outputs": [
        {
          "output_type": "stream",
          "name": "stdout",
          "text": [
            "============================================================\n",
            "MISSING VALUE DETECTION\n",
            "============================================================\n",
            "No Missing Values Found in any feature\n"
          ]
        }
      ]
    },
    {
      "cell_type": "code",
      "source": [
        "# Remove the duplicate rows\n",
        "df.drop_duplicates(inplace=True)\n",
        "check_duplicates()"
      ],
      "metadata": {
        "colab": {
          "base_uri": "https://localhost:8080/"
        },
        "id": "k_Bs1MLsw02F",
        "outputId": "d6dfbe2d-6ac8-40a1-9921-56be5d611954"
      },
      "execution_count": 10,
      "outputs": [
        {
          "output_type": "stream",
          "name": "stdout",
          "text": [
            "============================================================\n",
            "DUPLICATE ROW DETECTION\n",
            "============================================================\n",
            "Total Number of Duplicate Rows: 0\n"
          ]
        }
      ]
    },
    {
      "cell_type": "markdown",
      "source": [
        "### Sentiment Analysis"
      ],
      "metadata": {
        "id": "aq7ws8LlxbEX"
      }
    },
    {
      "cell_type": "code",
      "source": [
        "# Count each sentiment value\n",
        "sentiment_count = df[\"sentiment\"].value_counts().reset_index()\n",
        "sentiment_count.columns = [\"sentiment\", \"count\"]\n",
        "print(\"=\" * 60)\n",
        "print(\"SENTIMENT ANALYSIS\")\n",
        "print(\"=\" * 60)\n",
        "print(sentiment_count)\n",
        "\n",
        "# Visualize the sentiment count\n",
        "plt.figure(figsize=(10, 6))\n",
        "sns.barplot(x=\"sentiment\", y=\"count\", data=sentiment_count, hue= \"sentiment\")\n",
        "plt.title(\"Sentiment Count\")\n",
        "plt.xlabel(\"Sentiment\")\n",
        "plt.ylabel(\"Count\")\n",
        "plt.show()"
      ],
      "metadata": {
        "colab": {
          "base_uri": "https://localhost:8080/",
          "height": 703
        },
        "id": "LrbuIZYUw4Dy",
        "outputId": "ea16c9ea-f39d-42d2-c8c3-007ef20bcce0"
      },
      "execution_count": 11,
      "outputs": [
        {
          "output_type": "stream",
          "name": "stdout",
          "text": [
            "============================================================\n",
            "SENTIMENT ANALYSIS\n",
            "============================================================\n",
            "    sentiment  count\n",
            "0    Negative  21698\n",
            "1    Positive  19713\n",
            "2     Neutral  17708\n",
            "3  Irrelevant  12537\n"
          ]
        },
        {
          "output_type": "display_data",
          "data": {
            "text/plain": [
              "<Figure size 1000x600 with 1 Axes>"
            ],
            "image/png": "[encoded data removed]"
          },
          "metadata": {}
        }
      ]
    },
    {
      "cell_type": "markdown",
      "source": [
        "### **Sentiment Count Analysis**\n",
        "\n",
        "#### **Overview of Sentiment Distribution**\n",
        "The dataset contains tweets categorized into four sentiment classes: **Negative**, **Positive**, **Neutral**, and **Irrelevant**. Below is the detailed breakdown:\n",
        "\n",
        "- **Negative (21,698)**: The largest sentiment category, comprising approximately **29.03%** of the dataset. This indicates a significant portion of the tweets express negative sentiments.\n",
        "- **Positive (19,713)**: Positive tweets account for about **26.39%** of the dataset, suggesting a substantial portion expresses favorable opinions.\n",
        "- **Neutral (17,708)**: Neutral tweets make up **23.72%** of the dataset, representing tweets with no strong emotional tone.\n",
        "- **Irrelevant (12,537)**: This category, accounting for **16.79%** of the dataset, includes tweets unrelated to sentiment analysis.\n",
        "\n",
        "---\n",
        "\n",
        "#### **Insights and Observations**\n",
        "\n",
        "1. **Class Imbalance**:\n",
        "   - The dataset is **imbalanced**, with noticeable differences in sentiment counts.\n",
        "   - \"Negative\" and \"Positive\" classes dominate, while \"Neutral\" and \"Irrelevant\" classes are comparatively smaller.\n",
        "   - This imbalance can lead to biased model predictions favoring majority classes.\n",
        "\n",
        "2. **Impact on Model Performance**:\n",
        "   - Models trained on this data may:\n",
        "     - **Underperform on minority classes**, particularly Neutral and Irrelevant.\n",
        "     - Show skewed metrics like accuracy due to dominance of majority classes.\n",
        "\n",
        "3. **Relevance of the \"Irrelevant\" Class**:\n",
        "   - The \"Irrelevant\" category could dilute the focus on sentiment polarity (positive, negative, neutral).\n",
        "   - Excluding or treating it as a separate task might improve the focus of the sentiment analysis."
      ],
      "metadata": {
        "id": "L8bpssh6yjVq"
      }
    },
    {
      "cell_type": "code",
      "source": [
        "# Exclude the Irrelivant sentiment class.\n",
        "df = df[df[\"sentiment\"] != \"Irrelevant\"]\n",
        "df.reset_index(inplace=True)\n",
        "df[\"sentiment\"].value_counts()"
      ],
      "metadata": {
        "colab": {
          "base_uri": "https://localhost:8080/",
          "height": 209
        },
        "id": "ePRbxtHXxUG5",
        "outputId": "e2a5f402-ea9a-4b51-f0af-c957d1cf5876"
      },
      "execution_count": 12,
      "outputs": [
        {
          "output_type": "execute_result",
          "data": {
            "text/plain": [
              "sentiment\n",
              "Negative    21698\n",
              "Positive    19713\n",
              "Neutral     17708\n",
              "Name: count, dtype: int64"
            ],
            "text/html": [
              "<div>\n",
              "<style scoped>\n",
              "    .dataframe tbody tr th:only-of-type {\n",
              "        vertical-align: middle;\n",
              "    }\n",
              "\n",
              "    .dataframe tbody tr th {\n",
              "        vertical-align: top;\n",
              "    }\n",
              "\n",
              "    .dataframe thead th {\n",
              "        text-align: right;\n",
              "    }\n",
              "</style>\n",
              "<table border=\"1\" class=\"dataframe\">\n",
              "  <thead>\n",
              "    <tr style=\"text-align: right;\">\n",
              "      <th></th>\n",
              "      <th>count</th>\n",
              "    </tr>\n",
              "    <tr>\n",
              "      <th>sentiment</th>\n",
              "      <th></th>\n",
              "    </tr>\n",
              "  </thead>\n",
              "  <tbody>\n",
              "    <tr>\n",
              "      <th>Negative</th>\n",
              "      <td>21698</td>\n",
              "    </tr>\n",
              "    <tr>\n",
              "      <th>Positive</th>\n",
              "      <td>19713</td>\n",
              "    </tr>\n",
              "    <tr>\n",
              "      <th>Neutral</th>\n",
              "      <td>17708</td>\n",
              "    </tr>\n",
              "  </tbody>\n",
              "</table>\n",
              "</div><br><label><b>dtype:</b> int64</label>"
            ]
          },
          "metadata": {},
          "execution_count": 12
        }
      ]
    },
    {
      "cell_type": "code",
      "source": [
        "df[\"sentiment_encoded\"] = df[\"sentiment\"].map({\"Negative\": 0, \"Positive\": 2, \"Neutral\": 1})"
      ],
      "metadata": {
        "id": "OxudpybpzwFN"
      },
      "execution_count": 66,
      "outputs": []
    },
    {
      "cell_type": "markdown",
      "source": [
        "### Preprocessing"
      ],
      "metadata": {
        "id": "M0BZ_8id2Jqe"
      }
    },
    {
      "cell_type": "code",
      "source": [
        "# Extract features and labels\n",
        "texts = df['Tweet_content']\n",
        "labels = df['sentiment_encoded']\n"
      ],
      "metadata": {
        "id": "owEyFNK117S1"
      },
      "execution_count": 67,
      "outputs": []
    },
    {
      "cell_type": "code",
      "source": [
        "# Convert labels to categorical format\n",
        "categorical_labels = to_categorical(labels)\n",
        "\n",
        "# Tokenize and preprocess the text data\n",
        "tokenizer = Tokenizer(num_words=10000, oov_token='<OOV>')\n",
        "tokenizer.fit_on_texts(texts)\n",
        "sequences = tokenizer.texts_to_sequences(texts)\n",
        "\n",
        "# Pad sequences to ensure uniform input size\n",
        "padded_sequences = pad_sequences(sequences, maxlen=50, padding='post', truncating='post')"
      ],
      "metadata": {
        "id": "2urxIcue2Acx"
      },
      "execution_count": 16,
      "outputs": []
    },
    {
      "cell_type": "code",
      "source": [
        "# Split the data into training and testing sets\n",
        "X_train, X_test, y_train, y_test = train_test_split(padded_sequences, categorical_labels, test_size=0.2, random_state=42)\n"
      ],
      "metadata": {
        "id": "pA3h1Tgs2YVu"
      },
      "execution_count": 17,
      "outputs": []
    },
    {
      "cell_type": "code",
      "source": [
        "# Define the RNN model\n",
        "model = Sequential([\n",
        "    Embedding(input_dim=10000, output_dim=64, input_length=50),  # Embedding layer\n",
        "    SimpleRNN(64, return_sequences=False),  # Vanilla RNN layer\n",
        "    Dropout(0.5),  # Dropout for regularization\n",
        "    Dense(64, activation='relu'),  # Fully connected layer\n",
        "    Dropout(0.5),  # Dropout for further regularization\n",
        "    Dense(3, activation='softmax')  # Output layer (3 classes: Positive, Negative, Neutral)\n",
        "])\n",
        "\n",
        "# Compile the model\n",
        "model.compile(\n",
        "    loss='categorical_crossentropy',  # Multi-class classification loss\n",
        "    optimizer='adam',\n",
        "    metrics=['accuracy']\n",
        ")\n",
        "\n",
        "# Display the model summary\n",
        "model.summary()\n"
      ],
      "metadata": {
        "colab": {
          "base_uri": "https://localhost:8080/",
          "height": 334
        },
        "id": "PRdRPHBN2mfs",
        "outputId": "a6bccec2-cb8a-446f-b862-0fe89db09bba"
      },
      "execution_count": 18,
      "outputs": [
        {
          "output_type": "display_data",
          "data": {
            "text/plain": [
              "\u001b[1mModel: \"sequential\"\u001b[0m\n"
            ],
            "text/html": [
              "<pre style=\"white-space:pre;overflow-x:auto;line-height:normal;font-family:Menlo,'DejaVu Sans Mono',consolas,'Courier New',monospace\"><span style=\"font-weight: bold\">Model: \"sequential\"</span>\n",
              "</pre>\n"
            ]
          },
          "metadata": {}
        },
        {
          "output_type": "display_data",
          "data": {
            "text/plain": [
              "┏━━━━━━━━━━━━━━━━━━━━━━━━━━━━━━━━━━━━━━┳━━━━━━━━━━━━━━━━━━━━━━━━━━━━━┳━━━━━━━━━━━━━━━━━┓\n",
              "┃\u001b[1m \u001b[0m\u001b[1mLayer (type)                        \u001b[0m\u001b[1m \u001b[0m┃\u001b[1m \u001b[0m\u001b[1mOutput Shape               \u001b[0m\u001b[1m \u001b[0m┃\u001b[1m \u001b[0m\u001b[1m        Param #\u001b[0m\u001b[1m \u001b[0m┃\n",
              "┡━━━━━━━━━━━━━━━━━━━━━━━━━━━━━━━━━━━━━━╇━━━━━━━━━━━━━━━━━━━━━━━━━━━━━╇━━━━━━━━━━━━━━━━━┩\n",
              "│ embedding (\u001b[38;5;33mEmbedding\u001b[0m)                │ ?                           │     \u001b[38;5;34m0\u001b[0m (unbuilt) │\n",
              "├──────────────────────────────────────┼─────────────────────────────┼─────────────────┤\n",
              "│ simple_rnn (\u001b[38;5;33mSimpleRNN\u001b[0m)               │ ?                           │     \u001b[38;5;34m0\u001b[0m (unbuilt) │\n",
              "├──────────────────────────────────────┼─────────────────────────────┼─────────────────┤\n",
              "│ dropout (\u001b[38;5;33mDropout\u001b[0m)                    │ ?                           │     \u001b[38;5;34m0\u001b[0m (unbuilt) │\n",
              "├──────────────────────────────────────┼─────────────────────────────┼─────────────────┤\n",
              "│ dense (\u001b[38;5;33mDense\u001b[0m)                        │ ?                           │     \u001b[38;5;34m0\u001b[0m (unbuilt) │\n",
              "├──────────────────────────────────────┼─────────────────────────────┼─────────────────┤\n",
              "│ dropout_1 (\u001b[38;5;33mDropout\u001b[0m)                  │ ?                           │     \u001b[38;5;34m0\u001b[0m (unbuilt) │\n",
              "├──────────────────────────────────────┼─────────────────────────────┼─────────────────┤\n",
              "│ dense_1 (\u001b[38;5;33mDense\u001b[0m)                      │ ?                           │     \u001b[38;5;34m0\u001b[0m (unbuilt) │\n",
              "└──────────────────────────────────────┴─────────────────────────────┴─────────────────┘\n"
            ],
            "text/html": [
              "<pre style=\"white-space:pre;overflow-x:auto;line-height:normal;font-family:Menlo,'DejaVu Sans Mono',consolas,'Courier New',monospace\">┏━━━━━━━━━━━━━━━━━━━━━━━━━━━━━━━━━━━━━━┳━━━━━━━━━━━━━━━━━━━━━━━━━━━━━┳━━━━━━━━━━━━━━━━━┓\n",
              "┃<span style=\"font-weight: bold\"> Layer (type)                         </span>┃<span style=\"font-weight: bold\"> Output Shape                </span>┃<span style=\"font-weight: bold\">         Param # </span>┃\n",
              "┡━━━━━━━━━━━━━━━━━━━━━━━━━━━━━━━━━━━━━━╇━━━━━━━━━━━━━━━━━━━━━━━━━━━━━╇━━━━━━━━━━━━━━━━━┩\n",
              "│ embedding (<span style=\"color: #0087ff; text-decoration-color: #0087ff\">Embedding</span>)                │ ?                           │     <span style=\"color: #00af00; text-decoration-color: #00af00\">0</span> (unbuilt) │\n",
              "├──────────────────────────────────────┼─────────────────────────────┼─────────────────┤\n",
              "│ simple_rnn (<span style=\"color: #0087ff; text-decoration-color: #0087ff\">SimpleRNN</span>)               │ ?                           │     <span style=\"color: #00af00; text-decoration-color: #00af00\">0</span> (unbuilt) │\n",
              "├──────────────────────────────────────┼─────────────────────────────┼─────────────────┤\n",
              "│ dropout (<span style=\"color: #0087ff; text-decoration-color: #0087ff\">Dropout</span>)                    │ ?                           │     <span style=\"color: #00af00; text-decoration-color: #00af00\">0</span> (unbuilt) │\n",
              "├──────────────────────────────────────┼─────────────────────────────┼─────────────────┤\n",
              "│ dense (<span style=\"color: #0087ff; text-decoration-color: #0087ff\">Dense</span>)                        │ ?                           │     <span style=\"color: #00af00; text-decoration-color: #00af00\">0</span> (unbuilt) │\n",
              "├──────────────────────────────────────┼─────────────────────────────┼─────────────────┤\n",
              "│ dropout_1 (<span style=\"color: #0087ff; text-decoration-color: #0087ff\">Dropout</span>)                  │ ?                           │     <span style=\"color: #00af00; text-decoration-color: #00af00\">0</span> (unbuilt) │\n",
              "├──────────────────────────────────────┼─────────────────────────────┼─────────────────┤\n",
              "│ dense_1 (<span style=\"color: #0087ff; text-decoration-color: #0087ff\">Dense</span>)                      │ ?                           │     <span style=\"color: #00af00; text-decoration-color: #00af00\">0</span> (unbuilt) │\n",
              "└──────────────────────────────────────┴─────────────────────────────┴─────────────────┘\n",
              "</pre>\n"
            ]
          },
          "metadata": {}
        },
        {
          "output_type": "display_data",
          "data": {
            "text/plain": [
              "\u001b[1m Total params: \u001b[0m\u001b[38;5;34m0\u001b[0m (0.00 B)\n"
            ],
            "text/html": [
              "<pre style=\"white-space:pre;overflow-x:auto;line-height:normal;font-family:Menlo,'DejaVu Sans Mono',consolas,'Courier New',monospace\"><span style=\"font-weight: bold\"> Total params: </span><span style=\"color: #00af00; text-decoration-color: #00af00\">0</span> (0.00 B)\n",
              "</pre>\n"
            ]
          },
          "metadata": {}
        },
        {
          "output_type": "display_data",
          "data": {
            "text/plain": [
              "\u001b[1m Trainable params: \u001b[0m\u001b[38;5;34m0\u001b[0m (0.00 B)\n"
            ],
            "text/html": [
              "<pre style=\"white-space:pre;overflow-x:auto;line-height:normal;font-family:Menlo,'DejaVu Sans Mono',consolas,'Courier New',monospace\"><span style=\"font-weight: bold\"> Trainable params: </span><span style=\"color: #00af00; text-decoration-color: #00af00\">0</span> (0.00 B)\n",
              "</pre>\n"
            ]
          },
          "metadata": {}
        },
        {
          "output_type": "display_data",
          "data": {
            "text/plain": [
              "\u001b[1m Non-trainable params: \u001b[0m\u001b[38;5;34m0\u001b[0m (0.00 B)\n"
            ],
            "text/html": [
              "<pre style=\"white-space:pre;overflow-x:auto;line-height:normal;font-family:Menlo,'DejaVu Sans Mono',consolas,'Courier New',monospace\"><span style=\"font-weight: bold\"> Non-trainable params: </span><span style=\"color: #00af00; text-decoration-color: #00af00\">0</span> (0.00 B)\n",
              "</pre>\n"
            ]
          },
          "metadata": {}
        }
      ]
    },
    {
      "cell_type": "code",
      "source": [
        "# Train the RNN model\n",
        "history = model.fit(\n",
        "    X_train, y_train,\n",
        "    validation_data=(X_test, y_test),\n",
        "    epochs=10,\n",
        "    batch_size=64,\n",
        "    verbose=1\n",
        ")\n"
      ],
      "metadata": {
        "colab": {
          "base_uri": "https://localhost:8080/"
        },
        "id": "N3OSE6082qxr",
        "outputId": "d146677f-58e3-45b9-aad5-1f5fcf0e1312"
      },
      "execution_count": 19,
      "outputs": [
        {
          "output_type": "stream",
          "name": "stdout",
          "text": [
            "Epoch 1/10\n",
            "\u001b[1m739/739\u001b[0m \u001b[32m━━━━━━━━━━━━━━━━━━━━\u001b[0m\u001b[37m\u001b[0m \u001b[1m22s\u001b[0m 25ms/step - accuracy: 0.3830 - loss: 1.0883 - val_accuracy: 0.5041 - val_loss: 0.9890\n",
            "Epoch 2/10\n",
            "\u001b[1m739/739\u001b[0m \u001b[32m━━━━━━━━━━━━━━━━━━━━\u001b[0m\u001b[37m\u001b[0m \u001b[1m18s\u001b[0m 25ms/step - accuracy: 0.5366 - loss: 0.9596 - val_accuracy: 0.5962 - val_loss: 0.8910\n",
            "Epoch 3/10\n",
            "\u001b[1m739/739\u001b[0m \u001b[32m━━━━━━━━━━━━━━━━━━━━\u001b[0m\u001b[37m\u001b[0m \u001b[1m20s\u001b[0m 24ms/step - accuracy: 0.6679 - loss: 0.8077 - val_accuracy: 0.6599 - val_loss: 0.8056\n",
            "Epoch 4/10\n",
            "\u001b[1m739/739\u001b[0m \u001b[32m━━━━━━━━━━━━━━━━━━━━\u001b[0m\u001b[37m\u001b[0m \u001b[1m22s\u001b[0m 30ms/step - accuracy: 0.7437 - loss: 0.6674 - val_accuracy: 0.6923 - val_loss: 0.7605\n",
            "Epoch 5/10\n",
            "\u001b[1m739/739\u001b[0m \u001b[32m━━━━━━━━━━━━━━━━━━━━\u001b[0m\u001b[37m\u001b[0m \u001b[1m19s\u001b[0m 25ms/step - accuracy: 0.7918 - loss: 0.5591 - val_accuracy: 0.7216 - val_loss: 0.7113\n",
            "Epoch 6/10\n",
            "\u001b[1m739/739\u001b[0m \u001b[32m━━━━━━━━━━━━━━━━━━━━\u001b[0m\u001b[37m\u001b[0m \u001b[1m18s\u001b[0m 24ms/step - accuracy: 0.8306 - loss: 0.4689 - val_accuracy: 0.7179 - val_loss: 0.7225\n",
            "Epoch 7/10\n",
            "\u001b[1m739/739\u001b[0m \u001b[32m━━━━━━━━━━━━━━━━━━━━\u001b[0m\u001b[37m\u001b[0m \u001b[1m18s\u001b[0m 25ms/step - accuracy: 0.8574 - loss: 0.4008 - val_accuracy: 0.7350 - val_loss: 0.7213\n",
            "Epoch 8/10\n",
            "\u001b[1m739/739\u001b[0m \u001b[32m━━━━━━━━━━━━━━━━━━━━\u001b[0m\u001b[37m\u001b[0m \u001b[1m21s\u001b[0m 25ms/step - accuracy: 0.8725 - loss: 0.3566 - val_accuracy: 0.7545 - val_loss: 0.6940\n",
            "Epoch 9/10\n",
            "\u001b[1m739/739\u001b[0m \u001b[32m━━━━━━━━━━━━━━━━━━━━\u001b[0m\u001b[37m\u001b[0m \u001b[1m18s\u001b[0m 25ms/step - accuracy: 0.8870 - loss: 0.3215 - val_accuracy: 0.7477 - val_loss: 0.7189\n",
            "Epoch 10/10\n",
            "\u001b[1m739/739\u001b[0m \u001b[32m━━━━━━━━━━━━━━━━━━━━\u001b[0m\u001b[37m\u001b[0m \u001b[1m21s\u001b[0m 26ms/step - accuracy: 0.9033 - loss: 0.2782 - val_accuracy: 0.7602 - val_loss: 0.6904\n"
          ]
        }
      ]
    },
    {
      "cell_type": "code",
      "source": [
        "# Evaluate model performance on the test set\n",
        "test_loss, test_accuracy = model.evaluate(X_test, y_test, verbose=1)\n",
        "\n",
        "print(f\"Test Loss: {test_loss:.4f}\")\n",
        "print(f\"Test Accuracy: {test_accuracy:.4f}\")\n"
      ],
      "metadata": {
        "colab": {
          "base_uri": "https://localhost:8080/"
        },
        "id": "YogiEJ2J2utV",
        "outputId": "1388a424-54dd-4041-d89b-62e9ab7d2415"
      },
      "execution_count": 20,
      "outputs": [
        {
          "output_type": "stream",
          "name": "stdout",
          "text": [
            "\u001b[1m370/370\u001b[0m \u001b[32m━━━━━━━━━━━━━━━━━━━━\u001b[0m\u001b[37m\u001b[0m \u001b[1m2s\u001b[0m 6ms/step - accuracy: 0.7574 - loss: 0.7045\n",
            "Test Loss: 0.6904\n",
            "Test Accuracy: 0.7602\n"
          ]
        }
      ]
    },
    {
      "cell_type": "code",
      "source": [
        "# Predict on the test set\n",
        "y_pred = model.predict(X_test)\n",
        "y_pred_classes = np.argmax(y_pred, axis=1)\n",
        "y_test_classes = np.argmax(y_test, axis=1)\n",
        "\n",
        "# Print classification report\n",
        "print(classification_report(y_test_classes, y_pred_classes))"
      ],
      "metadata": {
        "colab": {
          "base_uri": "https://localhost:8080/"
        },
        "id": "ROlhij1G3kwN",
        "outputId": "b08fc340-aaec-40fa-c8a8-edcfdc096ec1"
      },
      "execution_count": 22,
      "outputs": [
        {
          "output_type": "stream",
          "name": "stdout",
          "text": [
            "\u001b[1m370/370\u001b[0m \u001b[32m━━━━━━━━━━━━━━━━━━━━\u001b[0m\u001b[37m\u001b[0m \u001b[1m2s\u001b[0m 4ms/step\n",
            "              precision    recall  f1-score   support\n",
            "\n",
            "           0       0.85      0.79      0.82      4404\n",
            "           1       0.70      0.71      0.70      3454\n",
            "           2       0.73      0.77      0.75      3966\n",
            "\n",
            "    accuracy                           0.76     11824\n",
            "   macro avg       0.76      0.76      0.76     11824\n",
            "weighted avg       0.76      0.76      0.76     11824\n",
            "\n"
          ]
        }
      ]
    },
    {
      "cell_type": "markdown",
      "source": [
        "### **Interpretation**\n",
        "1. **Class-wise Analysis**:\n",
        "   - **Negative (Class 0)**:\n",
        "     - The model performs best for this class, with an F1-score of **0.82**, indicating a good balance between precision and recall.\n",
        "     - Precision of **0.85** suggests the model correctly identifies most negative tweets without many false positives.\n",
        "   - **Neutral (Class 1)**:\n",
        "     - This class has the lowest F1-score (**0.70**), highlighting that the model struggles slightly with neutral sentiments.\n",
        "     - Recall of **0.71** shows that the model identifies most neutral tweets but may still miss some.\n",
        "   - **Positive (Class 2)**:\n",
        "     - The model performs moderately well with an F1-score of **0.75**, but precision and recall could still be improved.\n",
        "\n",
        "2. **Overall Accuracy**:\n",
        "   - An overall accuracy of **76%** is a reasonable baseline but indicates room for improvement, especially for the Neutral and Positive classes.\n",
        "\n",
        "3. **Class Imbalance**:\n",
        "   - The **class imbalance** (e.g., fewer Neutral samples compared to Negative ones) may contribute to the lower performance for the Neutral class.\n",
        "\n",
        "---\n",
        "\n",
        "### **Conclusions**\n",
        "1. **Strengths**:\n",
        "   - The model handles **Negative sentiments** effectively, achieving the highest precision and recall for this class.\n",
        "   - Overall accuracy and macro-average F1-score of **76%** demonstrate the potential of vanilla RNNs for this sentiment analysis task.\n",
        "\n",
        "2. **Weaknesses**:\n",
        "   - **Neutral and Positive classes** are less accurately classified, possibly due to overlap in textual features or the inherent ambiguity in these sentiments.\n",
        "   - Vanilla RNNs may struggle with long-term dependencies in text, which limits the model's ability to capture nuanced sentiments in longer tweets.\n",
        "\n",
        "---\n",
        "\n",
        "### **Potential Improvements**\n",
        "1. **Class Balancing**:\n",
        "   - Apply techniques like oversampling minority classes (Neutral and Positive) or using class weighting during model training.\n",
        "\n",
        "2. **Enhanced Preprocessing**:\n",
        "   - Use advanced tokenization techniques (e.g., stemming, lemmatization) to improve text representation.\n",
        "   - Experiment with word embeddings such as **GloVe** or **Word2Vec** for richer input representations.\n",
        "\n",
        "3. **Hyperparameter Tuning**:\n",
        "   - Optimize hyperparameters like learning rate, dropout rate, number of RNN units, and batch size to improve model performance.\n",
        "\n",
        "4. **Architectural Enhancements**:\n",
        "   - While staying within vanilla RNN, experimenting with **deeper RNN layers** or **bidirectional RNNs** can help capture more contextual information.\n",
        "   - Transitioning to LSTMs or GRUs in future iterations could address the vanishing gradient problem and improve performance further.\n",
        "\n",
        "5. **Domain-Specific Features**:\n",
        "   - Incorporate additional features like **sentiment lexicons**, hashtags, or emojis to capture sentiment-related cues.\n",
        "\n",
        "---\n",
        "\n",
        "### **Final Thoughts**\n",
        "The vanilla RNN provides a decent baseline performance for sentiment analysis but has limitations in capturing complex relationships within textual data. By addressing the class imbalance, fine-tuning the model, and exploring advanced text representations, the overall performance can be significantly improved.\n",
        "\n",
        "\n",
        "\n",
        "\n",
        "\n",
        "\n"
      ],
      "metadata": {
        "id": "RSip7kQf46Rq"
      }
    },
    {
      "cell_type": "code",
      "source": [
        "# Download NLTK data\n",
        "nltk.download('punkt')\n",
        "nltk.download('punkt_tab')\n",
        "nltk.download('wordnet')\n",
        "nltk.download('omw-1.4')"
      ],
      "metadata": {
        "colab": {
          "base_uri": "https://localhost:8080/"
        },
        "id": "mYwoI1xG3sKV",
        "outputId": "83fae5ec-5563-4460-8ccf-22728bf0219d"
      },
      "execution_count": 28,
      "outputs": [
        {
          "output_type": "stream",
          "name": "stderr",
          "text": [
            "[nltk_data] Downloading package punkt to /root/nltk_data...\n",
            "[nltk_data]   Package punkt is already up-to-date!\n",
            "[nltk_data] Downloading package punkt_tab to /root/nltk_data...\n",
            "[nltk_data]   Unzipping tokenizers/punkt_tab.zip.\n",
            "[nltk_data] Downloading package wordnet to /root/nltk_data...\n",
            "[nltk_data]   Package wordnet is already up-to-date!\n",
            "[nltk_data] Downloading package omw-1.4 to /root/nltk_data...\n",
            "[nltk_data]   Package omw-1.4 is already up-to-date!\n"
          ]
        },
        {
          "output_type": "execute_result",
          "data": {
            "text/plain": [
              "True"
            ]
          },
          "metadata": {},
          "execution_count": 28
        }
      ]
    },
    {
      "cell_type": "code",
      "source": [
        "# Oversample minority classes (Neutral and Positive)\n",
        "class_0 = df[df['sentiment'] == 'Negative']\n",
        "class_1 = df[df['sentiment'] == 'Neutral']\n",
        "class_2 = df[df['sentiment'] == 'Positive']\n",
        "\n",
        "# Resample to match the majority class size\n",
        "class_1_upsampled = resample(class_1, replace=True, n_samples=len(class_0), random_state=42)\n",
        "class_2_upsampled = resample(class_2, replace=True, n_samples=len(class_0), random_state=42)\n",
        "\n",
        "# Combine balanced data\n",
        "df_balanced = pd.concat([class_0, class_1_upsampled, class_2_upsampled])\n",
        "\n",
        "# Shuffle the dataset\n",
        "df_balanced = df_balanced.sample(frac=1, random_state=42).reset_index(drop=True)\n",
        "\n",
        "df_balanced[\"sentiment_encoded\"] = df_balanced[\"sentiment\"].map({\"Negative\": 0, \"Positive\": 2, \"Neutral\": 1})\n",
        "\n",
        "# Update texts and labels\n",
        "texts = df_balanced['Tweet_content']\n",
        "labels = df_balanced['sentiment_encoded']"
      ],
      "metadata": {
        "id": "zTvaVBAV6ezD"
      },
      "execution_count": 76,
      "outputs": []
    },
    {
      "cell_type": "markdown",
      "source": [
        "### Advance Preprocessing"
      ],
      "metadata": {
        "id": "w8bo6w7e7Ig_"
      }
    },
    {
      "cell_type": "code",
      "source": [
        "# Initialize lemmatizer\n",
        "lemmatizer = WordNetLemmatizer()\n",
        "\n",
        "def preprocess_text(text):\n",
        "    # Tokenize and lemmatize\n",
        "    tokens = word_tokenize(text.lower())  # Convert to lowercase and tokenize\n",
        "    lemmatized_tokens = [lemmatizer.lemmatize(token) for token in tokens]\n",
        "    return \" \".join(lemmatized_tokens)\n",
        "\n",
        "# Apply preprocessing\n",
        "texts = texts.apply(preprocess_text)\n",
        "\n",
        "\n",
        "# Convert labels to categorical\n",
        "categorical_labels = to_categorical(labels)\n"
      ],
      "metadata": {
        "id": "nvNq9LZD66Uw"
      },
      "execution_count": 80,
      "outputs": []
    },
    {
      "cell_type": "markdown",
      "source": [
        "### Apply word2vec embedding"
      ],
      "metadata": {
        "id": "9aVofLbrIM_B"
      }
    },
    {
      "cell_type": "code",
      "source": [
        "tokenizer = Tokenizer()\n",
        "tokenizer.fit_on_texts(texts)  # Fit tokenizer on the texts\n",
        "word_index = tokenizer.word_index  # Mapping of words to their indices\n",
        "\n",
        "sequences = tokenizer.texts_to_sequences(texts)\n",
        "max_length = max(len(seq) for seq in sequences)\n",
        "\n",
        "# Pad sequences\n",
        "padded_sequences = pad_sequences(sequences, maxlen=50, padding='post', truncating='post')\n",
        "\n",
        "# Train Word2Vec on the tweet text\n",
        "documents = [text.split() for text in texts]  # Tokenized text\n",
        "word2vec_model = Word2Vec(sentences=documents, vector_size=100, window=5, min_count=1, workers=4)\n",
        "\n",
        "# Create embedding matrix\n",
        "vocab_size = len(word_index) + 1\n",
        "embedding_matrix = np.zeros((vocab_size, 100))  # Vector size = 100\n",
        "for word, i in word_index.items():\n",
        "    if word in word2vec_model.wv:\n",
        "        embedding_matrix[i] = word2vec_model.wv[word]\n"
      ],
      "metadata": {
        "id": "Vo3BOLds7NSI"
      },
      "execution_count": 44,
      "outputs": []
    },
    {
      "cell_type": "code",
      "source": [
        "# Split into training and testing sets\n",
        "X_train, X_test, y_train, y_test = train_test_split(padded_sequences, categorical_labels, test_size=0.2, random_state=42)\n"
      ],
      "metadata": {
        "id": "K2p7_nYL7wSx"
      },
      "execution_count": 45,
      "outputs": []
    },
    {
      "cell_type": "code",
      "source": [
        "# Define the RNN model with Word2Vec embeddings\n",
        "model = Sequential()\n",
        "model.add(Embedding(input_dim=vocab_size,\n",
        "                    output_dim=100,\n",
        "                    weights=[embedding_matrix],\n",
        "                    input_length=max_length,\n",
        "                    trainable=True))  # Trainable for fine-tuning\n",
        "model.add(SimpleRNN(128, activation='relu'))\n",
        "model.add(Dense(3, activation='softmax'))  # 3 sentiment classes\n",
        "model.compile(optimizer='adam', loss='categorical_crossentropy', metrics=['accuracy'])"
      ],
      "metadata": {
        "id": "BcpTiPFNCKaR"
      },
      "execution_count": 46,
      "outputs": []
    },
    {
      "cell_type": "code",
      "source": [
        "# Train the model\n",
        "history = model.fit(\n",
        "    X_train, y_train,\n",
        "    validation_data=(X_test, y_test),\n",
        "    epochs=10,\n",
        "    batch_size=64,\n",
        "    verbose=1\n",
        ")\n"
      ],
      "metadata": {
        "colab": {
          "base_uri": "https://localhost:8080/"
        },
        "id": "8oR4s1pq9c_P",
        "outputId": "6be020d3-288e-4194-99f9-66e36bfc4f31"
      },
      "execution_count": 47,
      "outputs": [
        {
          "output_type": "stream",
          "name": "stdout",
          "text": [
            "Epoch 1/10\n",
            "\u001b[1m814/814\u001b[0m \u001b[32m━━━━━━━━━━━━━━━━━━━━\u001b[0m\u001b[37m\u001b[0m \u001b[1m48s\u001b[0m 55ms/step - accuracy: 0.3412 - loss: 1.1010 - val_accuracy: 0.3441 - val_loss: 1.0926\n",
            "Epoch 2/10\n",
            "\u001b[1m814/814\u001b[0m \u001b[32m━━━━━━━━━━━━━━━━━━━━\u001b[0m\u001b[37m\u001b[0m \u001b[1m89s\u001b[0m 64ms/step - accuracy: 0.3520 - loss: 1.0807 - val_accuracy: 0.3498 - val_loss: 1.0918\n",
            "Epoch 3/10\n",
            "\u001b[1m814/814\u001b[0m \u001b[32m━━━━━━━━━━━━━━━━━━━━\u001b[0m\u001b[37m\u001b[0m \u001b[1m74s\u001b[0m 55ms/step - accuracy: 0.3589 - loss: 1.0746 - val_accuracy: 0.3601 - val_loss: 1.0755\n",
            "Epoch 4/10\n",
            "\u001b[1m814/814\u001b[0m \u001b[32m━━━━━━━━━━━━━━━━━━━━\u001b[0m\u001b[37m\u001b[0m \u001b[1m44s\u001b[0m 55ms/step - accuracy: 0.3766 - loss: 1.0555 - val_accuracy: 0.3663 - val_loss: 1.0723\n",
            "Epoch 5/10\n",
            "\u001b[1m814/814\u001b[0m \u001b[32m━━━━━━━━━━━━━━━━━━━━\u001b[0m\u001b[37m\u001b[0m \u001b[1m44s\u001b[0m 54ms/step - accuracy: 0.3798 - loss: 1.0437 - val_accuracy: 0.3570 - val_loss: 1.0782\n",
            "Epoch 6/10\n",
            "\u001b[1m814/814\u001b[0m \u001b[32m━━━━━━━━━━━━━━━━━━━━\u001b[0m\u001b[37m\u001b[0m \u001b[1m81s\u001b[0m 52ms/step - accuracy: 0.3864 - loss: 1.0371 - val_accuracy: 0.3765 - val_loss: 1.0659\n",
            "Epoch 7/10\n",
            "\u001b[1m814/814\u001b[0m \u001b[32m━━━━━━━━━━━━━━━━━━━━\u001b[0m\u001b[37m\u001b[0m \u001b[1m83s\u001b[0m 53ms/step - accuracy: 0.4050 - loss: 1.0227 - val_accuracy: 0.3933 - val_loss: 1.0537\n",
            "Epoch 8/10\n",
            "\u001b[1m814/814\u001b[0m \u001b[32m━━━━━━━━━━━━━━━━━━━━\u001b[0m\u001b[37m\u001b[0m \u001b[1m83s\u001b[0m 55ms/step - accuracy: 0.4258 - loss: 1.0095 - val_accuracy: 0.4121 - val_loss: 1.0716\n",
            "Epoch 9/10\n",
            "\u001b[1m814/814\u001b[0m \u001b[32m━━━━━━━━━━━━━━━━━━━━\u001b[0m\u001b[37m\u001b[0m \u001b[1m83s\u001b[0m 56ms/step - accuracy: 0.4129 - loss: 1.0296 - val_accuracy: 0.3649 - val_loss: 1.1008\n",
            "Epoch 10/10\n",
            "\u001b[1m814/814\u001b[0m \u001b[32m━━━━━━━━━━━━━━━━━━━━\u001b[0m\u001b[37m\u001b[0m \u001b[1m82s\u001b[0m 56ms/step - accuracy: 0.3978 - loss: 1.0362 - val_accuracy: 0.4235 - val_loss: 1.0532\n"
          ]
        }
      ]
    },
    {
      "cell_type": "code",
      "source": [
        "# Evaluate model performance on the test set\n",
        "test_loss, test_accuracy = model.evaluate(X_test, y_test, verbose=1)\n",
        "\n",
        "print(f\"Test Loss: {test_loss:.4f}\")\n",
        "print(f\"Test Accuracy: {test_accuracy:.4f}\")\n"
      ],
      "metadata": {
        "colab": {
          "base_uri": "https://localhost:8080/"
        },
        "id": "XmiP9L0S9jmi",
        "outputId": "a7b2ee83-d590-46ca-8d0a-293be1c76894"
      },
      "execution_count": 48,
      "outputs": [
        {
          "output_type": "stream",
          "name": "stdout",
          "text": [
            "\u001b[1m407/407\u001b[0m \u001b[32m━━━━━━━━━━━━━━━━━━━━\u001b[0m\u001b[37m\u001b[0m \u001b[1m3s\u001b[0m 7ms/step - accuracy: 0.4246 - loss: 1.0514\n",
            "Test Loss: 1.0532\n",
            "Test Accuracy: 0.4235\n"
          ]
        }
      ]
    },
    {
      "cell_type": "code",
      "source": [
        "# Predict on the test set\n",
        "y_pred = model.predict(X_test)\n",
        "y_pred_classes = np.argmax(y_pred, axis=1)\n",
        "y_test_classes = np.argmax(y_test, axis=1)\n",
        "\n",
        "# Print classification report\n",
        "print(classification_report(y_test_classes, y_pred_classes))"
      ],
      "metadata": {
        "colab": {
          "base_uri": "https://localhost:8080/"
        },
        "id": "CjIn_kat9uqq",
        "outputId": "a476076b-306e-4431-add7-7d7c8f07b9d8"
      },
      "execution_count": 49,
      "outputs": [
        {
          "output_type": "stream",
          "name": "stdout",
          "text": [
            "\u001b[1m407/407\u001b[0m \u001b[32m━━━━━━━━━━━━━━━━━━━━\u001b[0m\u001b[37m\u001b[0m \u001b[1m3s\u001b[0m 7ms/step\n",
            "              precision    recall  f1-score   support\n",
            "\n",
            "           0       0.44      0.17      0.24      4373\n",
            "           1       0.47      0.41      0.44      4347\n",
            "           2       0.40      0.70      0.51      4299\n",
            "\n",
            "    accuracy                           0.42     13019\n",
            "   macro avg       0.44      0.43      0.39     13019\n",
            "weighted avg       0.44      0.42      0.39     13019\n",
            "\n"
          ]
        }
      ]
    },
    {
      "cell_type": "markdown",
      "source": [
        "### **Insights from Classification Report**\n",
        "\n",
        "#### **Overview**\n",
        "The performance of the sentiment classification model using Word2Vec embeddings and resampled data shows the following results:\n",
        "\n",
        "##### **Class-wise Performance**\n",
        "1. **Negative Sentiment (Class 0)**:\n",
        "   - **Precision**: 0.44 — Many false positives, indicating difficulty distinguishing negative sentiment.\n",
        "   - **Recall**: 0.17 — Poor recall, meaning the model fails to correctly identify most negative samples.\n",
        "   - **F1-Score**: 0.24 — Overall poor performance for this class.\n",
        "\n",
        "2. **Neutral Sentiment (Class 1)**:\n",
        "   - **Precision**: 0.47 — Moderate precision, indicating some misclassification of neutral samples.\n",
        "   - **Recall**: 0.41 — Moderate recall, with slightly better identification compared to class 0.\n",
        "   - **F1-Score**: 0.44 — Balanced but low performance for neutral sentiment.\n",
        "\n",
        "3. **Positive Sentiment (Class 2)**:\n",
        "   - **Precision**: 0.40 — Many false positives, suggesting misclassification of other classes as positive.\n",
        "   - **Recall**: 0.70 — Good recall, indicating the model identifies positive samples better than the other classes.\n",
        "   - **F1-Score**: 0.51 — Best performance among all classes but still suboptimal.\n",
        "\n",
        "##### **Overall Model Performance**\n",
        "- **Accuracy**: 0.42 — The model correctly classifies 42% of the total samples, which is insufficient for practical use.\n",
        "- **Macro Average**:\n",
        "  - **Precision**: 0.44 — Low precision across all classes.\n",
        "  - **Recall**: 0.43 — Slightly better recall, especially due to class 2 performance.\n",
        "  - **F1-Score**: 0.39 — Poor overall balance between precision and recall.\n",
        "- **Weighted Average**:\n",
        "  - Similar to macro averages, indicating poor performance even after accounting for class imbalances.\n",
        "\n",
        "---\n",
        "\n",
        "#### **Insights**\n",
        "1. **Class Imbalance Issues**:\n",
        "   - Resampling has not sufficiently resolved class imbalance, as reflected in poor recall for class 0 and moderate performance for class 1.\n",
        "\n",
        "2. **Word2Vec Embeddings**:\n",
        "   - Word2Vec embeddings may not be capturing the contextual relationships effectively, leading to misclassifications.\n",
        "\n",
        "3. **Misclassification Trends**:\n",
        "   - Positive sentiment (class 2) recall is higher, but it comes at the cost of low precision, suggesting overprediction of positive sentiment.\n",
        "\n",
        "4. **Model Limitations**:\n",
        "   - The current architecture (Simple RNN) and preprocessing pipeline may lack the complexity needed to fully utilize Word2Vec embeddings for sentiment analysis.\n",
        "\n",
        "---\n",
        "\n",
        "#### **Next Steps for Improvement**\n",
        "1. Use pre-trained embeddings (e.g., GloVe) for richer input representations.\n",
        "2. Enhance model architecture:\n",
        "   - Add more RNN layers or experiment with Bidirectional RNNs.\n",
        "3. Optimize hyperparameters (e.g., learning rate, batch size) and apply regularization techniques to reduce overfitting.\n",
        "4. Apply advanced sampling techniques like SMOTE to balance class distributions more effectively.\n"
      ],
      "metadata": {
        "id": "_KFJ-InzJQUV"
      }
    },
    {
      "cell_type": "code",
      "source": [],
      "metadata": {
        "id": "wSPwGJzfTsyV"
      },
      "execution_count": null,
      "outputs": []
    }
  ]
}